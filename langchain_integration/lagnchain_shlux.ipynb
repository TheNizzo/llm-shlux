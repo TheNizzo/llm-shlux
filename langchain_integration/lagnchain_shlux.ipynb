{
 "cells": [
  {
   "cell_type": "markdown",
   "metadata": {},
   "source": [
    "# Langchain integration\n",
    "In a world where the shlux LLM we built is good enough for use, langchain proves to be a very convenient tool for interacting with the model. Langchain has allowed us to easily create a chatbot that can interact with the model. "
   ]
  },
  {
   "cell_type": "code",
   "execution_count": null,
   "metadata": {},
   "outputs": [],
   "source": []
  },
  {
   "cell_type": "code",
   "execution_count": 31,
   "metadata": {},
   "outputs": [],
   "source": [
    "from langchain_core.language_models.llms import LLM\n",
    "from langchain.callbacks.manager import CallbackManagerForLLMRun\n",
    "from typing import Any, List, Optional\n",
    "import sys\n",
    "\n",
    "sys.path.append(\"../\")\n",
    "from gpt_model.model import GPT\n",
    "from model_generate import text_to_tokens, generate, tokens_to_text\n",
    "import tiktoken\n",
    "import torch\n",
    "\n",
    "\n",
    "class ShluxGPT(LLM):\n",
    "    \"\"\"\n",
    "    Custom LLM class.\n",
    "    \"\"\"\n",
    "    model: Any = None\n",
    "    tokenizer: Any = None\n",
    "\n",
    "    def __init__(self, *args, **kwargs):\n",
    "        super().__init__(*args, **kwargs)\n",
    "        self.model = GPT({\n",
    "            \"vocab_size\": 50257,\n",
    "            \"n_embd\": 768,\n",
    "            \"n_heads\": 12,\n",
    "            \"n_layers\": 12,\n",
    "            \"dropout\": 0.1,\n",
    "            \"context_length\": 256,\n",
    "        })\n",
    "        self.model.load_state_dict(torch.load(\"model.pth\"))\n",
    "        self.tokenizer = tiktoken.encoding_for_model(\"gpt2\")\n",
    "\n",
    "    def _call(\n",
    "        self,\n",
    "        prompt: str,\n",
    "        stop: Optional[List[str]] = None,\n",
    "        run_manager: Optional[CallbackManagerForLLMRun] = None,\n",
    "        **kwargs: Any,\n",
    "    ) -> str:\n",
    "        token_ids = generate(\n",
    "            model=self.model,\n",
    "            idx=text_to_tokens(prompt, self.tokenizer),\n",
    "            max_new_tokens=15,\n",
    "            context_size=256,\n",
    "            top_k=25,\n",
    "            temperature=1.4,\n",
    "        )\n",
    "        return tokens_to_text(token_ids, self.tokenizer)\n",
    "\n",
    "    @property\n",
    "    def _llm_type(self) -> str:\n",
    "        return \"shluxgpt\""
   ]
  },
  {
   "cell_type": "code",
   "execution_count": 33,
   "metadata": {},
   "outputs": [
    {
     "data": {
      "text/plain": [
       "'Hello, how are you? publiclywhyideonño inner Touch Goldstein Blessed Beatmund formed starts Puerto photons discl'"
      ]
     },
     "execution_count": 33,
     "metadata": {},
     "output_type": "execute_result"
    }
   ],
   "source": [
    "llm = ShluxGPT(n=5)\n",
    "llm.invoke(\"Hello, how are you?\")"
   ]
  }
 ],
 "metadata": {
  "kernelspec": {
   "display_name": ".venv",
   "language": "python",
   "name": "python3"
  },
  "language_info": {
   "codemirror_mode": {
    "name": "ipython",
    "version": 3
   },
   "file_extension": ".py",
   "mimetype": "text/x-python",
   "name": "python",
   "nbconvert_exporter": "python",
   "pygments_lexer": "ipython3",
   "version": "3.10.5"
  }
 },
 "nbformat": 4,
 "nbformat_minor": 2
}
