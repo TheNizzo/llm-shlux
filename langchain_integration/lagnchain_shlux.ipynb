{
 "cells": [
  {
   "cell_type": "markdown",
   "metadata": {},
   "source": [
    "# Langchain integration\n",
    "In a world where the shlux LLM we built is good enough for use, langchain proves to be a very convenient tool for interacting with the model. Langchain has allowed us to easily create a chatbot that can interact with the model. "
   ]
  },
  {
   "cell_type": "code",
   "execution_count": null,
   "metadata": {},
   "outputs": [],
   "source": []
  },
  {
   "cell_type": "code",
   "execution_count": 7,
   "metadata": {},
   "outputs": [],
   "source": [
    "from langchain_core.language_models.llms import LLM\n",
    "from langchain.callbacks.manager import CallbackManagerForLLMRun\n",
    "from typing import Any, List, Optional\n",
    "import sys\n",
    "\n",
    "sys.path.append(\"../\")\n",
    "from gpt_model.model import GPT\n",
    "from model_generate import text_to_tokens, generate, tokens_to_text\n",
    "import tiktoken\n",
    "import torch\n",
    "\n",
    "\n",
    "class ShluxGPT(LLM):\n",
    "    \"\"\"\n",
    "    Custom LLM class.\n",
    "    \"\"\"\n",
    "    model: Any = None\n",
    "    tokenizer: Any = None\n",
    "\n",
    "    def __init__(self, *args, **kwargs):\n",
    "        super().__init__(*args, **kwargs)\n",
    "        self.model = GPT({\n",
    "            \"vocab_size\": 50257,\n",
    "            \"n_embd\": 768,\n",
    "            \"n_heads\": 12,\n",
    "            \"n_layers\": 12,\n",
    "            \"dropout\": 0.1,\n",
    "            \"context_length\": 256,\n",
    "        })\n",
    "        self.model.load_state_dict(torch.load(\"../pretraining_model/model.pth\"))\n",
    "        self.tokenizer = tiktoken.encoding_for_model(\"gpt2\")\n",
    "\n",
    "    def _call(\n",
    "        self,\n",
    "        prompt: str,\n",
    "        stop: Optional[List[str]] = None,\n",
    "        run_manager: Optional[CallbackManagerForLLMRun] = None,\n",
    "        **kwargs: Any,\n",
    "    ) -> str:\n",
    "        token_ids = generate(\n",
    "            model=self.model,\n",
    "            idx=text_to_tokens(prompt, self.tokenizer),\n",
    "            max_new_tokens=15,\n",
    "            context_size=256,\n",
    "            top_k=25,\n",
    "            temperature=1.4,\n",
    "        )\n",
    "        return tokens_to_text(token_ids, self.tokenizer)\n",
    "\n",
    "    @property\n",
    "    def _llm_type(self) -> str:\n",
    "        return \"shluxgpt\""
   ]
  },
  {
   "cell_type": "code",
   "execution_count": 8,
   "metadata": {},
   "outputs": [
    {
     "name": "stderr",
     "output_type": "stream",
     "text": [
      "/tmp/ipykernel_5106/1954430276.py:30: FutureWarning: You are using `torch.load` with `weights_only=False` (the current default value), which uses the default pickle module implicitly. It is possible to construct malicious pickle data which will execute arbitrary code during unpickling (See https://github.com/pytorch/pytorch/blob/main/SECURITY.md#untrusted-models for more details). In a future release, the default value for `weights_only` will be flipped to `True`. This limits the functions that could be executed during unpickling. Arbitrary objects will no longer be allowed to be loaded via this mode unless they are explicitly allowlisted by the user via `torch.serialization.add_safe_globals`. We recommend you start setting `weights_only=True` for any use case where you don't have full control of the loaded file. Please open an issue on GitHub for any issues related to this experimental feature.\n",
      "  self.model.load_state_dict(torch.load(\"../pretraining_model/model.pth\"))\n"
     ]
    },
    {
     "data": {
      "text/plain": [
       "'Hello, how are you? A\\nthat in the Party? It was almost impossible, it\\ncould'"
      ]
     },
     "execution_count": 8,
     "metadata": {},
     "output_type": "execute_result"
    }
   ],
   "source": [
    "llm = ShluxGPT(n=5)\n",
    "print(llm.invoke(\"Hello, how are you?\"))\n"
   ]
  }
 ],
 "metadata": {
  "kernelspec": {
   "display_name": ".venv",
   "language": "python",
   "name": "python3"
  },
  "language_info": {
   "codemirror_mode": {
    "name": "ipython",
    "version": 3
   },
   "file_extension": ".py",
   "mimetype": "text/x-python",
   "name": "python",
   "nbconvert_exporter": "python",
   "pygments_lexer": "ipython3",
   "version": "3.10.12"
  }
 },
 "nbformat": 4,
 "nbformat_minor": 2
}
